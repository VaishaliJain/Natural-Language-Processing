{
  "nbformat": 4,
  "nbformat_minor": 0,
  "metadata": {
    "kernelspec": {
      "display_name": "Python 3",
      "language": "python",
      "name": "python3"
    },
    "language_info": {
      "codemirror_mode": {
        "name": "ipython",
        "version": 3
      },
      "file_extension": ".py",
      "mimetype": "text/x-python",
      "name": "python",
      "nbconvert_exporter": "python",
      "pygments_lexer": "ipython3",
      "version": "3.7.5"
    },
    "colab": {
      "name": "LDA.ipynb",
      "provenance": [],
      "collapsed_sections": []
    }
  },
  "cells": [
    {
      "cell_type": "code",
      "metadata": {
        "id": "IggWE8rTZKmi"
      },
      "source": [
        "import numpy as np\n",
        "import pandas as pd\n",
        "import gensim\n",
        "import gensim.corpora as corpora"
      ],
      "execution_count": null,
      "outputs": []
    },
    {
      "cell_type": "code",
      "metadata": {
        "id": "6yug5qMIZKmp"
      },
      "source": [
        "def lda_implement(vocabulary, alpha, beta, xi, num_of_docs):\n",
        "    documents = []\n",
        "    for i in range(num_of_docs):\n",
        "        topic_proportions = np.random.dirichlet(alpha)\n",
        "        doc_size = np.random.poisson(xi)\n",
        "        document = []\n",
        "        for j in range(doc_size):\n",
        "            topic = np.random.choice(a=range(len(topic_proportions)), p=topic_proportions)\n",
        "            word_proportions = beta[topic]\n",
        "            word = np.random.choice(a=range(len(word_proportions)), p=word_proportions)\n",
        "            document.append(vocabulary[word])\n",
        "        documents.append(document)\n",
        "    return documents"
      ],
      "execution_count": null,
      "outputs": []
    },
    {
      "cell_type": "code",
      "metadata": {
        "id": "SrnJGznRsbkN",
        "colab": {
          "base_uri": "https://localhost:8080/"
        },
        "outputId": "f1de6cf8-589a-4759-9c89-d40982fd5eba"
      },
      "source": [
        "vocabulary = ['bass', 'pike', 'deep', 'tuba', 'horn', 'catapult']\n",
        "beta = np.array([\n",
        "[0.4, 0.4, 0.2, 0.0, 0.0, 0.0],\n",
        "[0.0, 0.3, 0.1, 0.0, 0.3, 0.3],\n",
        "[0.3, 0.0, 0.2, 0.3, 0.2, 0.0]\n",
        "])\n",
        "alpha = np.array([1, 3, 8])\n",
        "xi = 50\n",
        "documents = lda_implement(vocabulary, alpha, beta, xi, 1)\n",
        "documents[0]"
      ],
      "execution_count": null,
      "outputs": [
        {
          "output_type": "execute_result",
          "data": {
            "text/plain": [
              "['catapult',\n",
              " 'pike',\n",
              " 'horn',\n",
              " 'deep',\n",
              " 'pike',\n",
              " 'horn',\n",
              " 'deep',\n",
              " 'tuba',\n",
              " 'bass',\n",
              " 'horn',\n",
              " 'tuba',\n",
              " 'horn',\n",
              " 'deep',\n",
              " 'horn',\n",
              " 'tuba',\n",
              " 'bass',\n",
              " 'bass',\n",
              " 'bass',\n",
              " 'horn',\n",
              " 'horn',\n",
              " 'pike',\n",
              " 'bass',\n",
              " 'bass',\n",
              " 'bass',\n",
              " 'deep',\n",
              " 'bass',\n",
              " 'tuba',\n",
              " 'deep',\n",
              " 'tuba',\n",
              " 'deep',\n",
              " 'tuba',\n",
              " 'bass',\n",
              " 'horn',\n",
              " 'tuba']"
            ]
          },
          "metadata": {
            "tags": []
          },
          "execution_count": 3
        }
      ]
    },
    {
      "cell_type": "code",
      "metadata": {
        "id": "HdVXoJiDuIiW"
      },
      "source": [
        "def lda_infer():\n",
        "    documents = lda_implement(vocabulary, alpha, beta, xi, 200)\n",
        "    id2word = corpora.Dictionary(documents)\n",
        "    corpus = [id2word.doc2bow(document) for document in documents]\n",
        "    lda_model = gensim.models.LdaModel(corpus=corpus,\n",
        "                                       id2word=id2word,\n",
        "                                       num_topics=3,\n",
        "                                       passes=15,\n",
        "                                       alpha='auto')\n",
        "    print(lda_model.show_topic(0))\n",
        "    print(lda_model.show_topic(1))\n",
        "    print(lda_model.show_topic(2))"
      ],
      "execution_count": null,
      "outputs": []
    },
    {
      "cell_type": "code",
      "metadata": {
        "id": "T_rQH02Vx5Da",
        "colab": {
          "base_uri": "https://localhost:8080/"
        },
        "outputId": "daed1e2b-9695-4f19-ed40-a43e6108964e"
      },
      "source": [
        "lda_infer()"
      ],
      "execution_count": null,
      "outputs": [
        {
          "output_type": "stream",
          "text": [
            "[('pike', 0.30401477), ('catapult', 0.18735063), ('bass', 0.15028138), ('horn', 0.14414605), ('deep', 0.13256653), ('tuba', 0.0816406)]\n",
            "[('horn', 0.25470555), ('bass', 0.24845959), ('tuba', 0.16694373), ('deep', 0.15288119), ('catapult', 0.08957705), ('pike', 0.0874329)]\n",
            "[('tuba', 0.30434415), ('bass', 0.26315826), ('deep', 0.21245019), ('horn', 0.14633167), ('pike', 0.07109366), ('catapult', 0.0026221033)]\n"
          ],
          "name": "stdout"
        }
      ]
    }
  ]
}