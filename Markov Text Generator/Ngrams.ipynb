{
  "nbformat": 4,
  "nbformat_minor": 0,
  "metadata": {
    "colab": {
      "name": "Ngrams.ipynb",
      "provenance": [],
      "collapsed_sections": []
    },
    "kernelspec": {
      "display_name": "Python 3",
      "language": "python",
      "name": "python3"
    },
    "language_info": {
      "codemirror_mode": {
        "name": "ipython",
        "version": 3
      },
      "file_extension": ".py",
      "mimetype": "text/x-python",
      "name": "python",
      "nbconvert_exporter": "python",
      "pygments_lexer": "ipython3",
      "version": "3.7.5"
    }
  },
  "cells": [
    {
      "cell_type": "code",
      "metadata": {
        "colab": {
          "base_uri": "https://localhost:8080/",
          "height": 70
        },
        "id": "UjPSnkooakYu",
        "outputId": "d4d41fad-2412-4807-b0fa-54f969abb62b"
      },
      "source": [
        "import nltk\n",
        "import numpy as np\n",
        "nltk.download('gutenberg')"
      ],
      "execution_count": null,
      "outputs": [
        {
          "output_type": "stream",
          "text": [
            "[nltk_data] Downloading package gutenberg to\n",
            "[nltk_data]     C:\\Users\\vinay\\AppData\\Roaming\\nltk_data...\n",
            "[nltk_data]   Package gutenberg is already up-to-date!\n"
          ],
          "name": "stderr"
        },
        {
          "output_type": "execute_result",
          "data": {
            "text/plain": [
              "True"
            ]
          },
          "metadata": {
            "tags": []
          },
          "execution_count": 1
        }
      ]
    },
    {
      "cell_type": "code",
      "metadata": {
        "id": "qO8NUNRTZy1l"
      },
      "source": [
        "sentence = ['she', 'was', 'not']\n",
        "n = 3\n",
        "corpus = [\n",
        "    w.lower() for w in\n",
        "    nltk.corpus.gutenberg.words('austen-sense.txt')\n",
        "    ]"
      ],
      "execution_count": null,
      "outputs": []
    },
    {
      "cell_type": "code",
      "metadata": {
        "id": "d-QxX88HJFCG"
      },
      "source": [
        "#Use to create a dictionary of dictionary where the outer dictionary contains te last n-1 tokens and \n",
        "#the inner dictionary is just a frequency of the nth token\n",
        "\n",
        "def preprocess_probdist(corpus,n,prob_dist):\n",
        "    if(n==1):\n",
        "        return prob_dist\n",
        "    for idx in range(n-1,len(corpus)):\n",
        "        tup= tuple(corpus[idx-n+1:idx])\n",
        "        current_word= corpus[idx]\n",
        "        if tup not in prob_dist:\n",
        "            prob_dist[tup] = {current_word:1}\n",
        "        else:\n",
        "            if current_word in prob_dist[tup]:\n",
        "                prob_dist[tup][current_word]+=1\n",
        "            else:\n",
        "                prob_dist[tup][current_word]=1\n",
        "    return prob_dist"
      ],
      "execution_count": null,
      "outputs": []
    },
    {
      "cell_type": "code",
      "metadata": {
        "id": "rhZw_IL4JFCI"
      },
      "source": [
        "#Used to find the best word to return from the inner dictionary deterministically as well as non-deterministically\n",
        "def helper(last_n_gram,prob_dist,deterministic):\n",
        "    max_val=0\n",
        "    if(deterministic):\n",
        "        for i in prob_dist[last_n_gram]:\n",
        "            if prob_dist[last_n_gram][i]> max_val:\n",
        "                max_val = prob_dist[last_n_gram][i]\n",
        "                best_word= i\n",
        "            elif(prob_dist[last_n_gram][i]==max_val):\n",
        "                if(i>best_word):\n",
        "                    best_word=i        \n",
        "    else:           \n",
        "        keys = prob_dist[last_n_gram].keys()\n",
        "        values = prob_dist[last_n_gram].values()\n",
        "        val_sum = sum(values)\n",
        "        values = [float(i)/val_sum for i in values]\n",
        "        best_word = np.random.choice(list(keys),p = values)\n",
        "    return best_word"
      ],
      "execution_count": null,
      "outputs": []
    },
    {
      "cell_type": "code",
      "metadata": {
        "id": "t13disDUJFCJ"
      },
      "source": [
        "#Special case to create a dictionary when a unigram is being used in a non-deterministic way\n",
        "def non_deterministic_unigram(corpus):\n",
        "    d={}\n",
        "    for i in corpus:\n",
        "        if i in d:\n",
        "            d[i]+=1\n",
        "        else:\n",
        "            d[i]=1\n",
        "    keys = d.keys()\n",
        "    values = d.values()\n",
        "    values = [float(i)/len(corpus) for i in values]\n",
        "    return keys,values"
      ],
      "execution_count": null,
      "outputs": []
    },
    {
      "cell_type": "code",
      "metadata": {
        "id": "M5td_pujJFCK"
      },
      "source": [
        "def finish_sentence(sentence, n, corpus, deterministic):\n",
        "    end_words = ['.', '?', '!']\n",
        "    prob_dist={}\n",
        "    prob_dist=preprocess_probdist(corpus,n,prob_dist)\n",
        "    #print(prob_dist)\n",
        "    min_ngram_in_dict=n\n",
        "    n_gram_reach_1=0\n",
        "    while(sentence[-1][0] not in end_words and len(sentence)<15):\n",
        "        last_n_gram= tuple(sentence[-(n-1):])\n",
        "        gram_length=n\n",
        "        appended=0\n",
        "        while(gram_length>1):\n",
        "            if gram_length< min_ngram_in_dict:\n",
        "                prob_dist=preprocess_probdist(corpus,gram_length,prob_dist)\n",
        "                min_ngram_in_dict-=1\n",
        "            last_n_gram = last_n_gram[(n-gram_length):]\n",
        "            #print(last_n_gram)\n",
        "            if last_n_gram in prob_dist:\n",
        "                best_word=helper(last_n_gram,prob_dist,deterministic)\n",
        "                sentence.append(best_word)\n",
        "                appended=1\n",
        "                break\n",
        "            gram_length-=1\n",
        "        if(appended==0):\n",
        "            if(deterministic):\n",
        "                if (n_gram_reach_1==0):\n",
        "                    max_word=max(set(corpus), key = corpus.count)\n",
        "                #print(max_word)\n",
        "                    n_gram_reach_1=1\n",
        "            else:\n",
        "                if(n_gram_reach_1==0):\n",
        "                    unigram_keys, unigram_values = non_deterministic_unigram(corpus)\n",
        "                max_word = np.random.choice(list(unigram_keys),p = unigram_values)\n",
        "            sentence.append(max_word) \n",
        "    #print(prob_dist[(',')])\n",
        "    return sentence"
      ],
      "execution_count": null,
      "outputs": []
    },
    {
      "cell_type": "markdown",
      "metadata": {
        "id": "BClfMXxqJFCL"
      },
      "source": [
        "**Non-deterministic case**"
      ]
    },
    {
      "cell_type": "code",
      "metadata": {
        "id": "sJ2p5CVUJFCM",
        "outputId": "2a4a6f7b-7fce-4038-b7cc-cec183eee73c"
      },
      "source": [
        "sentence = ['she', 'was', 'not']\n",
        "sentence_1 = finish_sentence(sentence, n, corpus, False)\n",
        "sentence_1"
      ],
      "execution_count": null,
      "outputs": [
        {
          "output_type": "execute_result",
          "data": {
            "text/plain": [
              "['she',\n",
              " 'was',\n",
              " 'not',\n",
              " 'very',\n",
              " 'material',\n",
              " ';',\n",
              " 'and',\n",
              " 'as',\n",
              " 'it',\n",
              " 'is',\n",
              " 'very',\n",
              " 'considerable',\n",
              " ';',\n",
              " 'and',\n",
              " 'secretly']"
            ]
          },
          "metadata": {
            "tags": []
          },
          "execution_count": 7
        }
      ]
    },
    {
      "cell_type": "markdown",
      "metadata": {
        "id": "RogLdK9lJFCN"
      },
      "source": [
        "**Deterministic case**"
      ]
    },
    {
      "cell_type": "code",
      "metadata": {
        "id": "EOod4zLSJFCO",
        "outputId": "9b9e0ca1-3eb7-4ad7-b24a-dc14bd0e143b"
      },
      "source": [
        "sentence = ['she', 'was', 'not']\n",
        "sentence_2 = finish_sentence(sentence, n, corpus, True)\n",
        "sentence_2"
      ],
      "execution_count": null,
      "outputs": [
        {
          "output_type": "execute_result",
          "data": {
            "text/plain": [
              "['she',\n",
              " 'was',\n",
              " 'not',\n",
              " 'in',\n",
              " 'the',\n",
              " 'world',\n",
              " ',',\n",
              " 'and',\n",
              " 'the',\n",
              " 'two',\n",
              " 'miss',\n",
              " 'steeles',\n",
              " ',',\n",
              " 'as',\n",
              " 'she']"
            ]
          },
          "metadata": {
            "tags": []
          },
          "execution_count": 8
        }
      ]
    }
  ]
}